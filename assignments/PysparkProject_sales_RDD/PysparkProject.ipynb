{
 "cells": [
  {
   "cell_type": "code",
   "execution_count": 0,
   "metadata": {
    "application/vnd.databricks.v1+cell": {
     "cellMetadata": {
      "byteLimit": 2048000,
      "rowLimit": 10000
     },
     "inputWidgets": {},
     "nuid": "b10d7386-e2b4-4d70-b6f7-3021ec486219",
     "showTitle": false,
     "title": ""
    }
   },
   "outputs": [],
   "source": [
    "rdd=sc.textFile(\"/FileStore/tables/records.csv\")\n",
    "rdd=rdd.map(lambda x:x.split(\",\"))\n",
    "header=rdd.first()"
   ]
  },
  {
   "cell_type": "code",
   "execution_count": 0,
   "metadata": {
    "application/vnd.databricks.v1+cell": {
     "cellMetadata": {
      "byteLimit": 2048000,
      "rowLimit": 10000
     },
     "inputWidgets": {},
     "nuid": "018f739e-0a37-4e48-a28a-1cfb749258df",
     "showTitle": false,
     "title": ""
    }
   },
   "outputs": [],
   "source": [
    "rdd.take(2)\n",
    "header\n",
    "rdd=rdd.filter(lambda x:x!=header)"
   ]
  },
  {
   "cell_type": "code",
   "execution_count": 0,
   "metadata": {
    "application/vnd.databricks.v1+cell": {
     "cellMetadata": {
      "byteLimit": 2048000,
      "rowLimit": 10000
     },
     "inputWidgets": {},
     "nuid": "933e5528-743a-42ca-a628-182f670910d0",
     "showTitle": false,
     "title": ""
    }
   },
   "outputs": [
    {
     "output_type": "stream",
     "name": "stdout",
     "output_type": "stream",
     "text": [
      "Out[8]: ['Central America and the Caribbean',\n 'Antigua and Barbuda ',\n 'Baby Food',\n 'Online',\n 'M',\n '12/20/2013',\n '957081544',\n '1/11/2014',\n '552',\n '255.28',\n '159.42',\n '140914.56',\n '87999.84',\n '52914.72']"
     ]
    }
   ],
   "source": [
    "rdd.first()"
   ]
  },
  {
   "cell_type": "code",
   "execution_count": 0,
   "metadata": {
    "application/vnd.databricks.v1+cell": {
     "cellMetadata": {
      "byteLimit": 2048000,
      "rowLimit": 10000
     },
     "inputWidgets": {},
     "nuid": "34e860c1-41c9-415e-8c99-0a2a1c5e162f",
     "showTitle": false,
     "title": ""
    }
   },
   "outputs": [
    {
     "output_type": "stream",
     "name": "stdout",
     "output_type": "stream",
     "text": [
      "Out[10]: PythonRDD[11] at RDD at PythonRDD.scala:58"
     ]
    }
   ],
   "source": [
    "rdd.cache()"
   ]
  },
  {
   "cell_type": "code",
   "execution_count": 0,
   "metadata": {
    "application/vnd.databricks.v1+cell": {
     "cellMetadata": {
      "byteLimit": 2048000,
      "rowLimit": 10000
     },
     "inputWidgets": {},
     "nuid": "e4d945fc-3968-487d-821e-a3a3b4ab98ca",
     "showTitle": false,
     "title": ""
    }
   },
   "outputs": [
    {
     "output_type": "stream",
     "name": "stdout",
     "output_type": "stream",
     "text": [
      "Out[12]: ['Central America and the Caribbean',\n 'Antigua and Barbuda ',\n 'Baby Food',\n 'Online',\n 'M',\n '12/20/2013',\n '957081544',\n '1/11/2014',\n '552',\n '255.28',\n '159.42',\n '140914.56',\n '87999.84',\n '52914.72']"
     ]
    }
   ],
   "source": [
    "rdd.first()"
   ]
  },
  {
   "cell_type": "code",
   "execution_count": 0,
   "metadata": {
    "application/vnd.databricks.v1+cell": {
     "cellMetadata": {
      "byteLimit": 2048000,
      "rowLimit": 10000
     },
     "inputWidgets": {},
     "nuid": "aef2b30b-1624-4b9d-b6ad-13e90d922f14",
     "showTitle": false,
     "title": ""
    }
   },
   "outputs": [
    {
     "output_type": "stream",
     "name": "stdout",
     "output_type": "stream",
     "text": [
      "Out[16]: [('Antigua and Barbuda ', 26),\n ('North Korea', 24),\n ('Federated States of Micronesia', 20),\n ('Ethiopia', 26),\n ('Saint Lucia', 29),\n ('Lebanon', 31),\n ('Austria', 28),\n ('Mexico', 23),\n ('Trinidad and Tobago', 19),\n ('Libya', 32),\n ('Algeria', 28),\n ('Estonia', 23),\n ('Saudi Arabia', 23),\n ('Montenegro', 28),\n ('Guatemala', 28),\n ('Australia', 34),\n ('Malawi', 24),\n ('Somalia', 36),\n ('Switzerland', 28),\n ('Laos', 34),\n ('Angola', 16),\n ('Mauritania', 29),\n ('Finland', 23),\n ('Belgium', 26),\n ('Kiribati', 25),\n ('Uzbekistan', 27),\n ('South Korea', 36),\n ('Nigeria', 23),\n ('South Africa', 23),\n ('Netherlands', 24),\n ('Solomon Islands', 31),\n ('Iran', 29),\n ('Equatorial Guinea', 33),\n ('Iraq', 29),\n ('Mauritius ', 38),\n ('Eritrea', 19),\n ('Ukraine', 33),\n ('Myanmar', 33),\n ('Latvia', 27),\n ('Portugal', 25),\n ('Barbados', 26),\n ('Poland', 28),\n ('Zambia', 31),\n ('Slovenia', 27),\n ('Bhutan', 30),\n ('Cyprus', 30),\n ('Monaco', 13),\n ('Gabon', 22),\n ('Norway', 30),\n ('Thailand', 25),\n ('Tanzania', 27),\n ('Denmark', 26),\n ('China', 27),\n ('United States of America', 38),\n ('Philippines', 24),\n ('Kuwait', 26),\n ('Turkmenistan', 31),\n ('Kosovo', 35),\n ('Hungary', 25),\n ('Pakistan', 27),\n ('Mozambique', 25),\n ('Kazakhstan', 24),\n ('East Timor', 27),\n ('Liberia', 27),\n ('Albania', 21),\n ('Moldova ', 24),\n ('India', 25),\n ('Republic of the Congo', 31),\n ('France', 26),\n (\"Cote d'Ivoire\", 32),\n ('Costa Rica', 26),\n ('Honduras', 33),\n ('Macedonia', 32),\n ('Greece', 32),\n ('Cambodia', 26),\n ('Botswana', 31),\n ('Vietnam', 19),\n ('Togo', 30),\n ('Kenya', 28),\n ('Andorra', 40),\n ('Iceland', 23),\n ('Marshall Islands', 26),\n ('Slovakia', 30),\n ('Ghana', 38),\n ('Bahrain', 18),\n ('Nepal', 28),\n ('Maldives', 20),\n ('Guinea-Bissau', 29),\n ('Ireland', 30),\n ('El Salvador', 24),\n ('Palau', 25),\n ('Fiji', 28),\n ('Belize', 20),\n ('Cape Verde', 14),\n ('Panama', 32),\n ('Czech Republic', 31),\n ('Sri Lanka', 31),\n ('Morocco', 21),\n ('Bosnia and Herzegovina', 33),\n ('Afghanistan', 19),\n ('Turkey', 25),\n ('Oman', 31),\n ('Malaysia', 27),\n ('Saint Vincent and the Grenadines', 22),\n ('Bulgaria', 30),\n ('Tuvalu', 22),\n ('Cuba', 28),\n ('Guinea', 33),\n ('Vanuatu', 35),\n ('United Arab Emirates', 25),\n ('Luxembourg', 28),\n ('Benin', 27),\n ('Kyrgyzstan', 29),\n ('Taiwan', 31),\n ('San Marino', 40),\n ('Samoa ', 35),\n ('Central African Republic', 26),\n ('Dominica', 18),\n ('Qatar', 32),\n ('Sudan', 34),\n ('Russia', 32),\n ('Azerbaijan', 27),\n ('Serbia', 29),\n ('Mongolia', 15),\n ('Grenada', 36),\n ('Namibia', 21),\n ('Senegal', 30),\n ('Burundi', 26),\n ('Haiti', 36),\n ('Liechtenstein', 24),\n ('United Kingdom', 23),\n ('Malta', 32),\n ('Singapore', 23),\n ('Cameroon', 31),\n ('Djibouti', 26),\n ('Uganda', 22),\n ('The Gambia', 19),\n ('Armenia', 29),\n ('Jordan', 31),\n ('Tonga', 37),\n ('Mali', 33),\n ('Swaziland', 25),\n ('Seychelles ', 30),\n ('Madagascar', 24),\n ('South Sudan', 25),\n ('Nicaragua', 20),\n ('Chad', 27),\n ('Lithuania', 25),\n ('Saint Kitts and Nevis ', 32),\n ('Jamaica', 27),\n ('Japan', 21),\n ('The Bahamas', 23),\n ('Egypt', 25),\n ('Democratic Republic of the Congo', 23),\n ('Comoros', 25),\n ('Rwanda', 30),\n ('Spain', 26),\n ('Israel', 23),\n ('Sweden', 29),\n ('Indonesia', 28),\n ('Yemen', 22),\n ('Italy', 30),\n ('New Zealand', 26),\n ('Tajikistan', 25),\n ('Dominican Republic', 29),\n ('Germany', 26),\n ('Tunisia ', 31),\n ('Sao Tome and Principe', 24),\n ('Brunei', 34),\n ('Nauru', 25),\n ('Croatia', 18),\n ('Papua New Guinea', 20),\n ('Niger', 35),\n ('Vatican City', 23),\n ('Belarus', 28),\n ('Bangladesh', 22),\n ('Greenland', 26),\n ('Sierra Leone', 23),\n ('Lesotho', 23),\n ('Zimbabwe', 21),\n ('Romania', 34),\n ('Georgia', 23),\n ('Canada', 19),\n ('Burkina Faso', 26),\n ('Syria', 19)]"
     ]
    }
   ],
   "source": [
    "rdd1=rdd.map(lambda x:(x[1],1)).reduceByKey(lambda a,b:a+b)\n",
    "rdd1.collect()\n"
   ]
  },
  {
   "cell_type": "code",
   "execution_count": 0,
   "metadata": {
    "application/vnd.databricks.v1+cell": {
     "cellMetadata": {
      "byteLimit": 2048000,
      "rowLimit": 10000
     },
     "inputWidgets": {},
     "nuid": "f2bb0464-350a-410c-a625-8813052ef7c0",
     "showTitle": false,
     "title": ""
    }
   },
   "outputs": [
    {
     "output_type": "stream",
     "name": "stdout",
     "output_type": "stream",
     "text": [
      "Out[18]: [('Asia', 719),\n ('Middle East and North Africa', 610),\n ('Australia and Oceania', 416),\n ('Central America and the Caribbean', 534),\n ('Europe', 1330),\n ('Sub-Saharan Africa', 1285),\n ('North America', 106)]"
     ]
    }
   ],
   "source": [
    "rdd2=rdd.map(lambda x:(x[0],x[8])).groupByKey().map(lambda y:(y[0],len(y[1])))\n",
    "rdd2.collect()"
   ]
  },
  {
   "cell_type": "code",
   "execution_count": 0,
   "metadata": {
    "application/vnd.databricks.v1+cell": {
     "cellMetadata": {
      "byteLimit": 2048000,
      "rowLimit": 10000
     },
     "inputWidgets": {},
     "nuid": "4e8cf3c1-3f05-4aa7-ad86-38420b6e7e59",
     "showTitle": false,
     "title": ""
    }
   },
   "outputs": [],
   "source": [
    "from datetime import datetime\n",
    "def convert_date(date_str):\n",
    "    formats = ['%m %d %Y', '%m/%d/%Y', '%m-%d-%Y']\n",
    "    for format in formats:\n",
    "        try:\n",
    "            date_obj = datetime.strptime(date_str, format)\n",
    "            return date_obj.strftime('%Y-%m-%d')\n",
    "        except ValueError:\n",
    "            pass\n",
    "    raise ValueError('Invalid date format: ' + date_str)"
   ]
  },
  {
   "cell_type": "code",
   "execution_count": 0,
   "metadata": {
    "application/vnd.databricks.v1+cell": {
     "cellMetadata": {
      "byteLimit": 2048000,
      "rowLimit": 10000
     },
     "inputWidgets": {},
     "nuid": "1e2edbe8-432d-4056-95e0-9b22056281c7",
     "showTitle": false,
     "title": ""
    }
   },
   "outputs": [
    {
     "output_type": "stream",
     "name": "stdout",
     "output_type": "stream",
     "text": [
      "Out[20]: [('Asia',\n  'Bhutan',\n  'Cereal',\n  'Offline',\n  'M',\n  '2017-07-28',\n  '223854434',\n  '8/25/2017',\n  '2356',\n  '205.70',\n  '117.11',\n  '484629.20',\n  '275911.16',\n  '208718.04'),\n ('Sub-Saharan Africa',\n  'Senegal',\n  'Cosmetics',\n  'Online',\n  'C',\n  '2017-07-26',\n  '537970721',\n  '8/18/2017',\n  '6346',\n  '437.20',\n  '263.33',\n  '2774471.20',\n  '1671092.18',\n  '1103379.02'),\n ('Middle East and North Africa',\n  'United Arab Emirates',\n  'Household',\n  'Online',\n  'C',\n  '2017-07-26',\n  '419542396',\n  '8/8/2017',\n  '773',\n  '668.27',\n  '502.54',\n  '516572.71',\n  '388463.42',\n  '128109.29'),\n ('Australia and Oceania',\n  'Australia',\n  'Beverages',\n  'Online',\n  'L',\n  '2017-07-26',\n  '631485402',\n  '8/12/2017',\n  '9418',\n  '47.45',\n  '31.79',\n  '446884.10',\n  '299398.22',\n  '147485.88'),\n ('Sub-Saharan Africa',\n  \"Cote d'Ivoire\",\n  'Vegetables',\n  'Online',\n  'H',\n  '2017-07-24',\n  '588388097',\n  '8/25/2017',\n  '5968',\n  '154.06',\n  '90.93',\n  '919430.08',\n  '542670.24',\n  '376759.84'),\n ('Sub-Saharan Africa',\n  'Chad',\n  'Household',\n  'Online',\n  'L',\n  '2017-07-24',\n  '586341464',\n  '7/31/2017',\n  '324',\n  '668.27',\n  '502.54',\n  '216519.48',\n  '162822.96',\n  '53696.52'),\n ('Australia and Oceania',\n  'Vanuatu',\n  'Office Supplies',\n  'Online',\n  'C',\n  '2017-07-24',\n  '480310952',\n  '8/11/2017',\n  '3539',\n  '651.21',\n  '524.96',\n  '2304632.19',\n  '1857833.44',\n  '446798.75'),\n ('Europe',\n  'Kosovo',\n  'Vegetables',\n  'Offline',\n  'C',\n  '2017-07-23',\n  '975080668',\n  '8/20/2017',\n  '6893',\n  '154.06',\n  '90.93',\n  '1061935.58',\n  '626780.49',\n  '435155.09'),\n ('Europe',\n  'San Marino',\n  'Snacks',\n  'Offline',\n  'C',\n  '2017-07-22',\n  '476453721',\n  '8/10/2017',\n  '2099',\n  '152.58',\n  '97.44',\n  '320265.42',\n  '204526.56',\n  '115738.86'),\n ('Australia and Oceania',\n  'Palau',\n  'Baby Food',\n  'Offline',\n  'H',\n  '2017-07-21',\n  '956778991',\n  '8/25/2017',\n  '1020',\n  '255.28',\n  '159.42',\n  '260385.60',\n  '162608.40',\n  '97777.20')]"
     ]
    }
   ],
   "source": [
    "rdd3=rdd.map(lambda x:(x[0],x[1],x[2],x[3],x[4],convert_date(x[5]),x[6],x[7],x[8],x[9],x[10],x[11],x[12],x[13])).sortBy(lambda y:y[5],ascending=False)\n",
    "rdd3.take(10)"
   ]
  },
  {
   "cell_type": "code",
   "execution_count": 0,
   "metadata": {
    "application/vnd.databricks.v1+cell": {
     "cellMetadata": {
      "byteLimit": 2048000,
      "rowLimit": 10000
     },
     "inputWidgets": {},
     "nuid": "95a78713-3abc-4b10-b86f-983a457bdcc4",
     "showTitle": false,
     "title": ""
    }
   },
   "outputs": [
    {
     "output_type": "stream",
     "name": "stdout",
     "output_type": "stream",
     "text": [
      "Out[21]: [('Personal Care', 2)]"
     ]
    }
   ],
   "source": [
    "rdd4=rdd.map(lambda x:(x[2],x[2].count(\"a\"))).filter(lambda y:y[1]>=2)\n",
    "rdd4.distinct().collect()"
   ]
  },
  {
   "cell_type": "code",
   "execution_count": 0,
   "metadata": {
    "application/vnd.databricks.v1+cell": {
     "cellMetadata": {
      "byteLimit": 2048000,
      "rowLimit": 10000
     },
     "inputWidgets": {},
     "nuid": "4eb678e1-8c4c-45d5-b6cd-8d2f4ad99a64",
     "showTitle": false,
     "title": ""
    }
   },
   "outputs": [
    {
     "output_type": "stream",
     "name": "stdout",
     "output_type": "stream",
     "text": [
      "Out[22]: [('Middle East and North Africa',\n  ('Middle East and North Africa', 'Somalia'),\n  193065),\n ('Australia and Oceania', ('Australia and Oceania', 'Australia'), 183909),\n ('Asia', ('Asia', 'Myanmar'), 199967),\n ('Sub-Saharan Africa', ('Sub-Saharan Africa', 'Equatorial Guinea'), 197767),\n ('North America', ('North America', 'United States of America'), 159519),\n ('Europe', ('Europe', 'Macedonia'), 203078),\n ('Central America and the Caribbean',\n  ('Central America and the Caribbean', 'Grenada'),\n  205943)]"
     ]
    }
   ],
   "source": [
    "rdd5=rdd.map(lambda x:[(x[0],x[1]),int(x[8])]).reduceByKey(lambda a,b:a+b).sortBy(lambda y:(y[0][0],y[1]),False).groupBy(lambda z:z[0][0]).mapValues(list).map(lambda c:(c[0],c[1][0][0],c[1][0][1]))\n",
    "rdd5.take(10)"
   ]
  },
  {
   "cell_type": "code",
   "execution_count": 0,
   "metadata": {
    "application/vnd.databricks.v1+cell": {
     "cellMetadata": {
      "byteLimit": 2048000,
      "rowLimit": 10000
     },
     "inputWidgets": {},
     "nuid": "7fd7424e-1f0d-4815-8999-b3be3bbff0de",
     "showTitle": false,
     "title": ""
    }
   },
   "outputs": [
    {
     "output_type": "stream",
     "name": "stdout",
     "output_type": "stream",
     "text": [
      "Out[23]: [('Baby Food', ('255.28', '159.42')),\n ('Beverages', ('47.45', '31.79')),\n ('Cereal', ('205.70', '117.11')),\n ('Clothes', ('109.28', '35.84')),\n ('Cosmetics', ('437.20', '263.33')),\n ('Fruits', ('9.33', '6.92')),\n ('Household', ('668.27', '502.54')),\n ('Meat', ('421.89', '364.69')),\n ('Office Supplies', ('651.21', '524.96')),\n ('Personal Care', ('81.73', '56.67')),\n ('Snacks', ('152.58', '97.44')),\n ('Vegetables', ('154.06', '90.93'))]"
     ]
    }
   ],
   "source": [
    "rdd6=rdd.map(lambda x:(x[2],(x[9],x[10]))).groupByKey().mapValues(list).sortBy(lambda z:z[0]).map(lambda y:(y[0],y[1][1]))\n",
    "rdd6.collect()"
   ]
  },
  {
   "cell_type": "code",
   "execution_count": 0,
   "metadata": {
    "application/vnd.databricks.v1+cell": {
     "cellMetadata": {
      "byteLimit": 2048000,
      "rowLimit": 10000
     },
     "inputWidgets": {},
     "nuid": "63b940f8-09d0-4951-8f08-5e56a875b11c",
     "showTitle": false,
     "title": ""
    }
   },
   "outputs": [
    {
     "output_type": "stream",
     "name": "stdout",
     "output_type": "stream",
     "text": [
      "Out[24]: [('2013', 3358584),\n ('2010', 3130137),\n ('2011', 3352394),\n ('2015', 3506548),\n ('2016', 3280818),\n ('2014', 3214899),\n ('2017', 1825066),\n ('2012', 3485045)]"
     ]
    }
   ],
   "source": [
    "rdd7=rdd.map(lambda x:(convert_date(x[5]),x[8])).map(lambda y:(y[0].split(\"-\")[0],int(y[1]))).reduceByKey(lambda a,b:a+b)\n",
    "rdd7.collect()"
   ]
  },
  {
   "cell_type": "code",
   "execution_count": 0,
   "metadata": {
    "application/vnd.databricks.v1+cell": {
     "cellMetadata": {
      "byteLimit": 2048000,
      "rowLimit": 10000
     },
     "inputWidgets": {},
     "nuid": "e9779ae9-0f99-4929-b508-b4c186bbb4a6",
     "showTitle": false,
     "title": ""
    }
   },
   "outputs": [
    {
     "output_type": "stream",
     "name": "stdout",
     "output_type": "stream",
     "text": [
      "Out[25]: [('Baby Food', 445),\n ('Snacks', 398),\n ('Cereal', 385),\n ('Clothes', 386),\n ('Cosmetics', 424),\n ('Fruits', 447),\n ('Beverages', 447),\n ('Personal Care', 415),\n ('Office Supplies', 420),\n ('Meat', 399),\n ('Vegetables', 410),\n ('Household', 424)]"
     ]
    }
   ],
   "source": [
    "rdd8=rdd.map(lambda x:(x[2],1)).reduceByKey(lambda a,b:a+b)\n",
    "rdd8.collect()"
   ]
  },
  {
   "cell_type": "code",
   "execution_count": 0,
   "metadata": {
    "application/vnd.databricks.v1+cell": {
     "cellMetadata": {
      "byteLimit": 2048000,
      "rowLimit": 10000
     },
     "inputWidgets": {},
     "nuid": "01ca2900-3232-4a7a-9a9d-1f144fbececc",
     "showTitle": false,
     "title": ""
    }
   },
   "outputs": [
    {
     "output_type": "stream",
     "name": "stdout",
     "output_type": "stream",
     "text": [
      "Out[26]: ('Zimbabwe', 93906)"
     ]
    }
   ],
   "source": [
    "rdd9=rdd.map(lambda x:(x[1],int(x[8]))).reduceByKey(lambda a,b:a+b)\n",
    "rdd9.max()"
   ]
  }
 ],
 "metadata": {
  "application/vnd.databricks.v1+notebook": {
   "dashboards": [],
   "language": "python",
   "notebookMetadata": {
    "pythonIndentUnit": 4
   },
   "notebookName": "notebook1",
   "notebookOrigID": 4220620075694487,
   "widgets": {}
  }
 },
 "nbformat": 4,
 "nbformat_minor": 0
}
